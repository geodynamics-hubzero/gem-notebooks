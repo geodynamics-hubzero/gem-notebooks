{
 "cells": [
  {
   "cell_type": "markdown",
   "id": "a5b49f75-2c2f-4ea5-9a65-3f3fd2153b1d",
   "metadata": {},
   "source": [
    "## Lithosphere Dynamics\n",
    "\n",
    "### Introduction\n",
    "\n",
    "Computational lithospheric dynamics is a vast topic, and this notebook serves as an introduction, not a comprehensive review. To learn more, please review the additional examples in ASPECT (cookbooks, benchmarks), the ASPECT source code, and the extensive literature on the subject, including other lithospheric dynamic codes. Non-linear lithospheric dynamics is difficult so it is a good idea to properly set your expectations for the amount of time it takes to conduct a novel study.\n",
    "\n",
    "In this tutorial, we will go over modeling the relationships between crustal deformation, lithospheric deformation, and mantle convection. Remember, these processes occur over time and spatial scares which can vary dramatically:\n",
    "\n",
    "![timescales](timescales.png) \n",
    "\n",
    "\n",
    "### Numerical Modeling\n",
    "\n",
    "Here is an overview of the steps involved in working numerical modeling problems:\n",
    "\n",
    "1. Define what physical processes to examine\n",
    "2. Capture the physics through equations\n",
    "3. Choose a numerical approximation to solve the equations\n",
    "4. Design, write, and validate software (or validate existing code)\n",
    "5. Formulate a hypothesis to test\n",
    "6. Design and run a series of models\n",
    "7. Verify and interpret results\n",
    "\n",
    "Do not skip steps 1 and 5 under any circumstances.\n",
    "\n",
    "### Capture Physics Through Equations\n",
    "\n",
    "In this case, the governing equations describe incompressible viscous flow:\n",
    "\n",
    "\n",
    "\n",
    "1. Stokes Equations\n",
    "\n",
    "    $\\nabla * u = 0 $\n",
    "    \n",
    "    $\\nabla * \\sigma' -\\nabla P +\\rho g = 0$ \n",
    "    \n",
    "    In case you are unfamiliar with these equations, let's take a moment to understand what they mean.\n",
    "    \n",
    "    In the first of the Stokes equations, $\\nabla *$ denotes divergence, while $u$ denotes the vector field of the fluid's velocity. The divergence of a vector field at a certain point is a measure of the change of the field's density at that point. A divergence of zero means that the field's density is constant at that point. The first equation states that for any point within the vector field of the fluid's velocity, the divergence remains the same. In other words, despite the fact that the fluid is flowing, the fluid remains at a constant density throughout. This is the same thing as saying that the fluid is incompressible, which makes sense because these equations describe incompressible viscous flow. This first equation is the mass conservation equation.\n",
    "    \n",
    "    In the second of the stokes equations, $\\sigma'$ denotes the stress tensor, $\\nabla$ denotes the gradient, (note: $\\nabla$ differs from $\\nabla*$ as they are both differential operators, but different kinds) $P$ denotes pressure, $\\rho$ denotes density, and $g$ denotes gravity. The gradient of a vector field is a function describing the direction and rate in which the vector field increases the most for each point in the field. When a point within the vector field is taken as input into the gradient operator, the return value is a vector whose direction signifies the direction at that point in the flow field in which the value of the field increases the most. The magnitude of this vector signifies the rate of greatest increase at that point. \n",
    "    \n",
    "    The second equation represents a balance of Pressure, Viscous, and Gravity forces. It is also the applciation of the second law of motion to an incompressible fluid, ignoring effect of inertia on the fluids acceleration (it is reasonable to ignore inertia because of the viscocity and time scale of mantle convection). \n",
    "\n",
    "    The term $-\\nabla P +\\rho g$ represents the pressure and gravity forces, while the term $\\nabla * \\sigma' $ represents the viscoelastic force.\n",
    "    \n",
    "\n",
    "2. Conservation of Energy\n",
    "\n",
    "    $\\rho c (\\frac{\\delta T}{\\delta t}+u*\\nabla T) = \\nabla * K\\nabla T +H $\n",
    "    \n",
    "    This equation describes how energy is conserved in this model of incompressible viscous flow. Here, $c$ denotes heat capacity at constant temperature, $K$ denotes thermal conductivity, $\\frac{\\delta T}{\\delta t}$ denotes the derivative of temprature T with respect to time t, and H denotes the heat radiated by the fluid. \n",
    "    \n",
    "    The equation states that the only increase in temperature is due to internal heat production ($+H$). In compressible fluids, temperature and density are related and so more terms are needed on the right hand side of the equation to account for temperature changes caused by compression. However, since we are modelling incompressible viscous flow, density is constant and so the above equation is accurate. It describes the evolution of $T$ temperature as a scalar field (meaning, the temperature of the fluid across it's entire area/volume) over time.\n",
    "\n",
    "\n",
    "3. Rheology\n",
    "\n",
    "    Rheology includes nonlinear viscous flow like diffusion, dislocation and composite creep, viscoelasticity, and plasticity. Each of these relationships are described by nonlinear systems of equations which are not trivial to solve. For complex simulations, you may need to heavily limit the number of nonlinear iterations per time step in order to run a model in a reasonable amount of time.\n",
    "    \n",
    "### Formulate a Hypothesis to Test\n",
    "\n",
    "When investigating lithosphere dynamics, a few areas invite study through geodynamic modeling, such as continental extension, subduction, and thrust sheets. In these cases rheology, rates of deformation, and the initial lithospheric structure (among other attributes) control the resulting patterns of deformation. When designing a hypothesis to test, it is important to think about which of these controls can and should be modelled. \n",
    "\n",
    "### Tutorial: Viscoelastic Bending Beam\n",
    "\n",
    "Viscoelasticity is especially important to describing lithosphere dynamics in regions experiencing flexure. An example of viscoelastic behavior might be an oceanic plate undergoing subduction, or a plate straining under the weight of material erupted by volcanism.\n",
    "\n",
    "ASPECT includes viscoelastic and viscoplastic material models and an elastic rheology model for simulating viscoelastic deformation. A number of benchmark .prm files make use of these material and rheology models, and are found in the /benchmarks directory within an ASPECT installation. These benchmarks serve as tools to verify that ASPECT solves various problems accurately. Alone, they are not necesarily intended as accurate models of geophysics processes. Rather, the benchmarks represent simplified scenarios in which to test ASPECT's adherance to physical laws. \n",
    "\n",
    "In this tutorial, we will be using the viscoelastic_bending_beam.prm file. This benchmark consists of a dense viscoelastic beam within a low density viscous fluid. Both materials are subjected to the force of gravity. Over the course of the simulation, gravity causes the dense beam to flex downward within the viscous fluid. The beam doesn't sink because one of its sides is \"connected\" to the side of the 2D box by designating that side as a \"no-slip\" surface.\n",
    "\n",
    "In order to verify the elasticity of the beam, we will stop applying the force of gravity partway through the simulation. If everything is working correctly, we should see the beam rebound to it's original position after the force of gravity is eliminated from the model. \n",
    "\n",
    "There are a few steps to follow in order to cancel gravity partway through the simulation and allow the beam to rebound. \n",
    "Note that in the # Global parameters of the .prm file, we set Resume computation to auto:\n",
    " "
   ]
  },
  {
   "cell_type": "raw",
   "id": "de697da6-5589-40e1-9805-ed121f91de7d",
   "metadata": {},
   "source": [
    "\n",
    "# Global parameters\n",
    "...\n",
    "set Resume computation                     = auto\n",
    "..."
   ]
  },
  {
   "cell_type": "markdown",
   "id": "9cda82e6-9b18-4303-b4b4-905184100d0c",
   "metadata": {},
   "source": [
    "With the *resume computation* parameter set to *auto*, we can run ASPECT using the same .prm file and the model will automatically continue at the time step where it last stopped, rather than restarting at the first time step. This feature enables us to change model parameters after a run, and then continue the simulation with new parameters. After the simulation finishes, let's turn off gravity by changing the magnitude from 10 to 0:"
   ]
  },
  {
   "cell_type": "raw",
   "id": "6e21aefa-fb12-47e6-ba5d-1f375d8a3b6c",
   "metadata": {},
   "source": [
    "# Gravity model\n",
    "subsection Gravity model\n",
    "  set Model name = vertical\n",
    "  subsection Vertical\n",
    "    set Magnitude = 0.\n",
    "  end\n",
    "end"
   ]
  },
  {
   "cell_type": "markdown",
   "id": "d1ef0252-51e3-45fc-a997-60ef0d5d59fb",
   "metadata": {},
   "source": [
    "During its last run, the model reached the end time specified in the .prm file and stopped running. Accordingly, we need to increase the end time before running the model again. If we don't, the model will resume running at the \"end\" time step and immediately stop because it has already reached the last specified time.\n",
    "\n",
    "Let's increase the run time to 250 Kyr:"
   ]
  },
  {
   "cell_type": "raw",
   "id": "a6107a79-8dd5-4f3b-8915-6d5ec038dd02",
   "metadata": {},
   "source": [
    "set End time                               = 250e3"
   ]
  },
  {
   "cell_type": "markdown",
   "id": "89f38d29-13fb-4809-8c2e-379cee7088d7",
   "metadata": {},
   "source": [
    "If we run the model again it will resume from where we left off. You should now see the viscoelastic beam rebound.\n",
    "\n",
    "Viewing the viscoelastic stresses in the model over time is also insightful. It should reveal that viscoelastic stresses build and relax on the beam as it bends. With greater downward flexure, the top of the beam experiences greater tension while the bottom experiences compression. When gravity is removed from the simulation, these stresses both return to zero as the beam rebounds to its original position.\n",
    "\n",
    "### Tutorial: Continental Extension\n",
    "\n",
    "Divergent plate boundary forces give rise to magmatism as well as varied deformation mechanisms including brittle, viscous, and elastic deformation. These are processes controlling lithosphere dynamics in continental rift zones, which can be investigated using ASPECT models.\n",
    "\n",
    "The continental extension tutorial uses a 2D box model, which represents a vertical cross section through an extension zone. Divergent forces work on the the model, applying tension outward on the box horizontally. At the same time, upwelling mantle material applies an upward force on the bottom of the box. Continental crust makes up the top 30km of the box, while the mantle forms the bottom 70km. Their respective densities are 2700$kg/m^3$ and 3300$kg/m^3$ which correspond to the real world values. Temperature increases from 500°C at the crust/mantle boundary to 1200°C at the bottom boundary of the box.\n",
    "\n",
    "The top portion of the model is a [free surface](https://aspect-documentation.readthedocs.io/en/latest/user/methods/freesurface/index.html), where the mesh can be deformed by forces from within the model. This is meant to represent the surface of the lithosphere, above which there is insufficient material to prevent the flow of rocks.) where the mesh can be deformed by forces from within the model. This is meant to represent the surface of the lithosphere, above which there is insufficient material to prevent the flow of rocks. \n",
    "\n",
    "After the simulation is complete, we will notice that the free surface along the top of the 2D box has developed topography similar to what we see in real-world rift valleys."
   ]
  },
  {
   "cell_type": "markdown",
   "id": "3235dc72-c3bb-46ba-b5cf-08c2f0912416",
   "metadata": {},
   "source": [
    "Now, let's look at this tutorial's .prm file in detail.\n",
    "#### Model Geometry and Pre-refinement Grid Spacing"
   ]
  },
  {
   "cell_type": "raw",
   "id": "a3dab702-f266-4bb7-bd9b-bc76368aea78",
   "metadata": {},
   "source": [
    "# Model geometry (200x100 km, 20 km spacing)\n",
    "subsection Geometry model\n",
    "  set Model name = box\n",
    "  subsection Box\n",
    "    set X repetitions = 10\n",
    "    set Y repetitions = 5\n",
    "    set X extent      = 200e3\n",
    "    set Y extent      = 100e3\n",
    "  end\n",
    "end\n",
    "\n",
    "\n",
    "# Adaptively refine the mesh to 2.5 km spacing above y=50 km\n",
    "# and between x=40 and x=160 km. These values ensure areas\n",
    "# undergoing brittle deformation are in the high-resolution\n",
    "# region.\n",
    "subsection Mesh refinement\n",
    "  set Initial global refinement          = 2\n",
    "  set Initial adaptive refinement        = 1\n",
    "  set Time steps between mesh refinement = 0\n",
    "  set Strategy = minimum refinement function\n",
    "  subsection Minimum refinement function\n",
    "    set Coordinate system   = cartesian\n",
    "    set Variable names      = x,y\n",
    "    set Function expression = if ( y>=50e3 && x>=40.e3 && x<=160.e3, 3, 2)\n",
    "  end\n",
    "  set Run postprocessors on initial refinement = false\n",
    "end"
   ]
  },
  {
   "cell_type": "markdown",
   "id": "5cb47cbc-7a0d-4a26-bdde-ccc62ce75696",
   "metadata": {},
   "source": [
    "in the Geometry model subsection, the Geometry model is defined as a box subdivided into sub-boxes which are each 20 kilometers square. \n",
    "\n",
    "Then, the model is further subdivided. Look at the comment above the Mesh refinement subsection: \"Adaptively refine the mesh to 2.5 km spacing above y=50 km and between x=40 and x=160 km.\" \n",
    "\n",
    "The Mesh refinement subsection sets the initial global refinement to 2, meaning that at the start of the simulation all of the 20km square boxes are refined twice. In a single refinement, each box is split into four boxes of equal size to each other (in three dimensions, each cube is split into 8 cubes per refinement). With an initial global refinement of 2, each box refined twice. The first refinement splits each 20km box into four 10km square boxes, and the second refinement produces four 5km square boxes from each of those.\n",
    "\n",
    "The minimum refinement function subsection is what adaptively refines the mesh to 2.5km above y=50km and between x=40 and x=160 km. Notice that the coordinates are specified in the conditional section of the if statement(the first parameter in the parenthesis), while the values 3 and 2 are specied in the then(the second parameter) and the else(the third parameter) section like this:\n",
    "\n",
    "set Function expression = if (**conditional**,**then**,**else**)\n",
    "\n",
    "Refer to the manual [here](https://aspect-documentation.readthedocs.io/en/stable/user/run-aspect/parameters-overview/muparser-format.html#sec-run-aspect-parameters-overview-muparser-format) for more information on how to write function expressions in .prm files.\n",
    "\n",
    "This function expression will set the refinement of all the blocks within the area defined in the conditional statement three times, and will refine all other blocks two times.\n",
    "\n",
    "\n",
    "# NOTE FOR CIG EDUCATION: This .prm file is not the same as the continental extension cookbook, they have modified it a bit for the tutorial. The tutorial is found in the 2020 tectonics modeling tutorial on Rene's github.\n",
    "\n",
    "\n",
    "#### Solver settings"
   ]
  },
  {
   "cell_type": "raw",
   "id": "f6feff6e-0ca5-4e9a-b554-67d7cc09f583",
   "metadata": {},
   "source": [
    "# Solver parameters\n",
    "subsection Solver parameters\n",
    "  subsection Stokes solver parameters\n",
    "    set Stokes solver type = block AMG\n",
    "    set Number of cheap Stokes solver steps = 0\n",
    "  end\n",
    "  subsection Newton solver parameters\n",
    "    set Max Newton line search iterations        = 5\n",
    "    set Max pre-Newton nonlinear iterations      = 10\n",
    "    set Maximum linear Stokes solver tolerance   = 1e-1\n",
    "    set Nonlinear Newton solver switch tolerance = 1e-4\n",
    "    set SPD safety factor                        = 0.9\n",
    "    set Stabilization preconditioner             = SPD\n",
    "    set Stabilization velocity block             = SPD\n",
    "    set Use Newton failsafe                      = false\n",
    "    set Use Newton residual scaling method       = false\n",
    "    set Use Eisenstat Walker method for Picard iterations = true\n",
    "  end\n",
    "end"
   ]
  },
  {
   "cell_type": "markdown",
   "id": "85dcf74f-d1b4-47aa-b453-c02e516e59c1",
   "metadata": {},
   "source": [
    "Only two parameters in this subsection have been changed from their default values, the Nonlinear Newton solver switch tolerance parameter and the Use Eisenstat walker for Picard iterations parameter.\n",
    "\n",
    "The Nonlinear Newton solver switch tolerance parameter has a default value of 1e-5, which is less tolerant than the value we have chosen. This means that ASPECT will take longer to switch from using Picard iterations to using Newton iterations. More information about nonlinear Newton and Picard solvers can be found in in the [ASPECT manual](https://aspect-documentation.readthedocs.io/en/latest/user/methods/nonlinear-stokes-solvers.html). In short, the Picard solvers will almost almost converge on a solution but require more iterations whereas Newton solvers can converge very quickly on a solution once they are close to it, but are at risk of failing to find a solution at all. However, Newton solvers can be slower than Picard solvers even if they use fewer iterations, so choosing the proper tolerance perameter is important whenever you are designing a new ASPECT model.\n",
    "\n",
    "The Eisenstat walker method is used to determine how accurately linear systems need to be solved, and by default is only used in the Newton iterations. By setting this parameter to true, we are also using the Eisenstat Walker method in the Picard iterations, which means the program might not ever need to switch the Newton solver on.\n",
    "\n",
    "More information about solver parameters is available in the aspect manual [here](https://aspect-documentation.readthedocs.io/en/stable/parameters/Solver_20parameters.html).\n",
    "\n",
    "### Velocity Boundary Conditions"
   ]
  },
  {
   "cell_type": "raw",
   "id": "24d37b88-98cd-470d-bbce-695b22378f86",
   "metadata": {},
   "source": [
    "# Velocity on boundaries characterized by functions\n",
    "# The outward velocity (x-direction) on the left and right walls is 0.25 cm/year.\n",
    "# The vertical velocity at the base is 0.25 cm/year (balances outflow on sides).\n",
    "# Velocity components parallel to the base (x-velocity) and side walls (y-velocity)\n",
    "# are unconstrained (i.e. 'free'). \n",
    "subsection Boundary velocity model\n",
    "  set Prescribed velocity boundary indicators = left x: function, right x:function, bottom y:function\n",
    "  subsection Function\n",
    "    set Variable names      = x,y\n",
    "    set Function constants  = v=0.0025, c=100.e3, w=200.e3, d=100.e3\n",
    "    set Function expression = if (x<c , -v, v); v*2*d/w\n",
    "  end\n",
    "end"
   ]
  },
  {
   "cell_type": "markdown",
   "id": "0b857d87-ac61-4ba6-9d8b-9bdd21b173d0",
   "metadata": {},
   "source": [
    "This part of the .prm file use a function expression to designate the boundary forces in this model, similar to the expression used for geometry model refinement.\n",
    "\n",
    "### Initial Composition"
   ]
  },
  {
   "cell_type": "raw",
   "id": "25444cfa-a400-43ef-be19-c9637687e419",
   "metadata": {},
   "source": [
    "subsection Compositional fields\n",
    "  set Number of fields = 5\n",
    "  set Names of fields = noninitial_plastic_strain, plastic_strain, crust_upper, crust_lower, mantle_lithosphere\n",
    "end\n",
    "\n",
    "\n",
    "# Spatial domain of different compositional fields\n",
    "# The upper crust (20 km thick), lower crust (20 km thick)\n",
    "# and mantle (60 km thick) are continuous horizontal layers\n",
    "# of varying thickness. The non initial plastic strain is set\n",
    "# to 0 and the initial plastic strain is randomized between\n",
    "# 0.5 and 1.5.\n",
    "subsection Initial composition model\n",
    "  set Model name = function\n",
    "  subsection Function\n",
    "    set Variable names      = x,y\n",
    "    set Function expression = 0; \\\n",
    "                              if(x>50.e3 && x<150.e3 && y>50.e3, 0.5 + rand()*1.0, 0); \\\n",
    "                              if(y>=80.e3, 1, 0); \\\n",
    "                              if(y<80.e3 && y>=60.e3, 1, 0); \\\n",
    "                              if(y<60.e3 && y>=0.e3, 1, 0);\n",
    "  end\n",
    "end"
   ]
  },
  {
   "cell_type": "markdown",
   "id": "00f6c0d8-0152-4884-b8c4-c7802dd42ab5",
   "metadata": {},
   "source": [
    "Note that the \"Names of fields\" parameter does not mean define rock types or chemical compositions, but rather fields which are useful in setting up this model. Compositional fields have many uses in ASPECT, which you can read about [here](https://aspect-documentation.readthedocs.io/en/stable/user/methods/compositional-fields.html#sec-methods-compositional-fields).\n",
    "\n",
    "### Temperature Boundary Conditions & Heating Model"
   ]
  },
  {
   "cell_type": "raw",
   "id": "cfba9165-f2ba-464b-b4a2-e921747756d2",
   "metadata": {},
   "source": [
    "# Temperature boundary conditions\n",
    "# Top and bottom (fixed) temperatures are consistent with the initial temperature field\n",
    "# Note that while temperatures are specified for the model sides, these values are\n",
    "# not used as the sides are not specified \"Fixed temperature boundaries\".  Rather,\n",
    "# these boundaries are insulating (zero net heat flux).\n",
    "subsection Boundary temperature model\n",
    "  set Fixed temperature boundary indicators = bottom, top\n",
    "  set Model name = initial temperature\n",
    "end"
   ]
  },
  {
   "cell_type": "markdown",
   "id": "d40bd4c5-141b-4e9c-892b-3b3de5ccd72b",
   "metadata": {},
   "source": [
    "The most important part of this subsection is that by leaving out the left and right sides from \"set Fixed temperature boundary indicators,\" those sides are defined to be insulating."
   ]
  },
  {
   "cell_type": "raw",
   "id": "1f0f3eb8-5f75-4d0b-83da-99e75fe86c50",
   "metadata": {},
   "source": [
    "# Constant internal heat production values (W/m^3) for background material\n",
    "# and compositional fields.\n",
    "subsection Heating model\n",
    "  set List of model names = compositional heating\n",
    "  subsection Compositional heating\n",
    "    set Compositional heating values = 0.0, 0.0, 0.0, 1.0e-6, 0.25e-6, 0.\n",
    "  end"
   ]
  },
  {
   "cell_type": "markdown",
   "id": "4aa6b14f-345a-45a4-a3d3-a694da0e01a2",
   "metadata": {},
   "source": [
    "Here, make sure that the compositional heating values are consistent with the initial temperature model, which is also defined in the .prm file.\n",
    "\n",
    "### Changes to try on your own"
   ]
  },
  {
   "cell_type": "markdown",
   "id": "0a26c7ef-9128-4d0e-892a-864cdb394377",
   "metadata": {},
   "source": [
    "If you want to try more, here are some parameters that you can try changing on your own:\n",
    "- Time step size\n",
    "- Model Geometry\n",
    "- Initial Lithology\n",
    "- Initial Temperature\n",
    "- Initial Plastic Strain\n",
    "- Solver Convergence Settings\n",
    "- Viscous Flow Law\n",
    "- Brittle Yield Mechanism\n",
    "- Brittle parameters"
   ]
  }
 ],
 "metadata": {
  "kernelspec": {
   "display_name": "Python 3",
   "language": "python",
   "name": "python3"
  },
  "language_info": {
   "codemirror_mode": {
    "name": "ipython",
    "version": 3
   },
   "file_extension": ".py",
   "mimetype": "text/x-python",
   "name": "python",
   "nbconvert_exporter": "python",
   "pygments_lexer": "ipython3",
   "version": "3.8.5"
  }
 },
 "nbformat": 4,
 "nbformat_minor": 5
}
